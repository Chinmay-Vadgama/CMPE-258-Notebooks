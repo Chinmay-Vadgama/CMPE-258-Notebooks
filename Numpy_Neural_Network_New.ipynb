{
  "nbformat": 4,
  "nbformat_minor": 0,
  "metadata": {
    "colab": {
      "name": "Numpy Neural Network New.ipynb",
      "provenance": []
    },
    "kernelspec": {
      "name": "python3",
      "display_name": "Python 3"
    },
    "accelerator": "GPU"
  },
  "cells": [
    {
      "cell_type": "markdown",
      "metadata": {
        "id": "36BAnXOZ5NsO",
        "colab_type": "text"
      },
      "source": [
        "# Neural Network Implementation for Hand Written Digit classification\n",
        "\n",
        "**Author - Chinmay Vadgama; ID : 014551407**\n",
        "\n",
        "Instructions :\n",
        "```\n",
        "1. Implement Mini-Batch Gradient Descent\n",
        "2. Implement drop-out regularization for all/some of the layers to see the impact of drop out technique\n",
        "3. Initialize Random Weights \n",
        "4. Use Image Augmentation to achieve robustness and avoid overfitting\n",
        "5. Try using multiple layers(more than 2) and experiment with number of layers and neurons\n",
        "6. Use appropriate activation function such as RelU and Softmax\n",
        "7. Scale/Normalize the input\n",
        "8. Use different Learning rates/adaptive learning rate\n",
        "9. The code should provide appropriate metrics, visualization,  testing and training accuracy etc.,. and plot the results and confusion matrix  (this is important)\n",
        "10. Display top common errors in NN learning\n",
        "```\n",
        "\n",
        "\n",
        "\n",
        "\n",
        "\n"
      ]
    },
    {
      "cell_type": "code",
      "metadata": {
        "id": "6gKXwn7exVSt",
        "colab_type": "code",
        "colab": {}
      },
      "source": [
        "import numpy as np\n",
        "import sys\n",
        "from keras.preprocessing.image import ImageDataGenerator\n",
        "from sklearn.model_selection import train_test_split\n",
        "import matplotlib.pyplot as plt\n",
        "from keras.datasets import mnist\n",
        "from tqdm import tqdm"
      ],
      "execution_count": 0,
      "outputs": []
    },
    {
      "cell_type": "markdown",
      "metadata": {
        "id": "3CkH94ZMyYcf",
        "colab_type": "text"
      },
      "source": [
        "# Load MNIST Data"
      ]
    },
    {
      "cell_type": "code",
      "metadata": {
        "id": "0ztY9OClyK3M",
        "colab_type": "code",
        "colab": {}
      },
      "source": [
        "# load data\n",
        "(X_train, y_train), (X_test, y_test) = mnist.load_data()\n",
        "# reshape to be [samples][width][height][channels]\n",
        "X_train = X_train.reshape((X_train.shape[0], 28, 28, 1))\n",
        "X_test = X_test.reshape((X_test.shape[0], 28, 28, 1))"
      ],
      "execution_count": 0,
      "outputs": []
    },
    {
      "cell_type": "code",
      "metadata": {
        "id": "I-wUDYPY3IgH",
        "colab_type": "code",
        "colab": {
          "base_uri": "https://localhost:8080/",
          "height": 34
        },
        "outputId": "d3692d2a-aeec-40a9-bafd-fdbad17513c3"
      },
      "source": [
        "X_train.shape"
      ],
      "execution_count": 3,
      "outputs": [
        {
          "output_type": "execute_result",
          "data": {
            "text/plain": [
              "(60000, 28, 28, 1)"
            ]
          },
          "metadata": {
            "tags": []
          },
          "execution_count": 3
        }
      ]
    },
    {
      "cell_type": "code",
      "metadata": {
        "id": "VkRKs9EC3P1X",
        "colab_type": "code",
        "colab": {
          "base_uri": "https://localhost:8080/",
          "height": 34
        },
        "outputId": "04182a32-752c-46d3-c693-1b6d2435f562"
      },
      "source": [
        "y_train.shape"
      ],
      "execution_count": 4,
      "outputs": [
        {
          "output_type": "execute_result",
          "data": {
            "text/plain": [
              "(60000,)"
            ]
          },
          "metadata": {
            "tags": []
          },
          "execution_count": 4
        }
      ]
    },
    {
      "cell_type": "markdown",
      "metadata": {
        "id": "GolG017KyMjF",
        "colab_type": "text"
      },
      "source": [
        "# Data Augmentation"
      ]
    },
    {
      "cell_type": "code",
      "metadata": {
        "id": "xvihPXACzish",
        "colab_type": "code",
        "colab": {}
      },
      "source": [
        "datagen = ImageDataGenerator(\n",
        "    rotation_range=20\n",
        "    )"
      ],
      "execution_count": 0,
      "outputs": []
    },
    {
      "cell_type": "code",
      "metadata": {
        "id": "jWVBOANM0vZ-",
        "colab_type": "code",
        "colab": {}
      },
      "source": [
        "datagen.fit(X_train)"
      ],
      "execution_count": 0,
      "outputs": []
    },
    {
      "cell_type": "code",
      "metadata": {
        "id": "bQV4MK0Q3f_H",
        "colab_type": "code",
        "colab": {}
      },
      "source": [
        "augmented_data = datagen.flow(X_train, y_train, batch_size=128)"
      ],
      "execution_count": 0,
      "outputs": []
    },
    {
      "cell_type": "code",
      "metadata": {
        "id": "NYgg__X-34_F",
        "colab_type": "code",
        "colab": {
          "base_uri": "https://localhost:8080/",
          "height": 268
        },
        "outputId": "538498f1-691a-462a-d374-f71633f05bbf"
      },
      "source": [
        "for X_batch, y_batch in datagen.flow(X_train, y_train, batch_size=9):\n",
        "\t# create a grid of 3x3 images\n",
        "\tfor i in range(0, 9):\n",
        "\t\tplt.subplot(330 + 1 + i)\n",
        "\t\tplt.imshow(X_batch[i].reshape(28, 28), cmap=plt.get_cmap('gray'))\n",
        "\t# show the plot\n",
        "\tplt.show()\n",
        "\n",
        "\tbreak"
      ],
      "execution_count": 8,
      "outputs": [
        {
          "output_type": "display_data",
          "data": {
            "image/png": "[encoded data removed]",
            "text/plain": [
              "<Figure size 432x288 with 9 Axes>"
            ]
          },
          "metadata": {
            "tags": []
          }
        }
      ]
    },
    {
      "cell_type": "code",
      "metadata": {
        "id": "OvXrRdub35tg",
        "colab_type": "code",
        "colab": {
          "base_uri": "https://localhost:8080/",
          "height": 54
        },
        "outputId": "bad49687-08b7-451f-de44-5419fbdcf8c8"
      },
      "source": [
        "'''\n",
        "augmented_data = []\n",
        "num_augmented = 0\n",
        "for X_batch, y_batch in datagen.flow(X_train, y_train, batch_size=128, shuffle=False):\n",
        "    augmented_data.append(X_batch)\n",
        "    num_augmented += 128\n",
        "    if num_augmented == X_train.shape[0]:\n",
        "        break\n",
        "#augmented_data = np.concatenate(augmented_data)\n",
        "'''"
      ],
      "execution_count": 34,
      "outputs": [
        {
          "output_type": "execute_result",
          "data": {
            "text/plain": [
              "'\\naugmented_data = []\\nnum_augmented = 0\\nfor X_batch, y_batch in datagen.flow(X_train, y_train, batch_size=128, shuffle=False):\\n    augmented_data.append(X_batch)\\n    num_augmented += 128\\n    if num_augmented == X_train.shape[0]:\\n        break\\n#augmented_data = np.concatenate(augmented_data)\\n'"
            ]
          },
          "metadata": {
            "tags": []
          },
          "execution_count": 34
        }
      ]
    },
    {
      "cell_type": "code",
      "metadata": {
        "id": "lDLFp1fT_id8",
        "colab_type": "code",
        "colab": {}
      },
      "source": [
        "images, labels = (X_train[0:1000].reshape(1000,28*28)/255 , y_train[0:1000])\n",
        "one_hot_labels = np.zeros((len(labels),10))"
      ],
      "execution_count": 0,
      "outputs": []
    },
    {
      "cell_type": "code",
      "metadata": {
        "id": "j9tl_XUrDvoo",
        "colab_type": "code",
        "colab": {}
      },
      "source": [
        "for i,l in enumerate(labels):\n",
        "  one_hot_labels[i][l] = 1\n",
        "labels = one_hot_labels"
      ],
      "execution_count": 0,
      "outputs": []
    },
    {
      "cell_type": "code",
      "metadata": {
        "id": "dWoFhVeLD6mo",
        "colab_type": "code",
        "colab": {}
      },
      "source": [
        "test_images = X_test.reshape(len(X_test),28*28)/255\n",
        "test_labels = np.zeros((len(y_test),10))"
      ],
      "execution_count": 0,
      "outputs": []
    },
    {
      "cell_type": "markdown",
      "metadata": {
        "id": "t3FP-cm_FWv9",
        "colab_type": "text"
      },
      "source": [
        "# Activation Functions"
      ]
    },
    {
      "cell_type": "code",
      "metadata": {
        "id": "mHy8gxpiD7WL",
        "colab_type": "code",
        "colab": {}
      },
      "source": [
        "for i,l in enumerate(y_test):\n",
        "  test_labels[i][l] = 1"
      ],
      "execution_count": 0,
      "outputs": []
    },
    {
      "cell_type": "code",
      "metadata": {
        "id": "J-QzDCGvEsIp",
        "colab_type": "code",
        "colab": {}
      },
      "source": [
        "def tanh(x):\n",
        "  return np.tanh(x)"
      ],
      "execution_count": 0,
      "outputs": []
    },
    {
      "cell_type": "code",
      "metadata": {
        "id": "FjQQXnJ8ExpL",
        "colab_type": "code",
        "colab": {}
      },
      "source": [
        "def tanhderiv(x):\n",
        "  return 1-(x**2)"
      ],
      "execution_count": 0,
      "outputs": []
    },
    {
      "cell_type": "code",
      "metadata": {
        "id": "PVIF4NqDE6Vp",
        "colab_type": "code",
        "colab": {}
      },
      "source": [
        "def softmax(x):\n",
        "  temp = np.exp(x)\n",
        "  return temp/np.sum(temp,axis=1,keepdims=True)"
      ],
      "execution_count": 0,
      "outputs": []
    },
    {
      "cell_type": "code",
      "metadata": {
        "id": "f5MPEi_zFKbS",
        "colab_type": "code",
        "colab": {}
      },
      "source": [
        "def relu(x):\n",
        "  '''\n",
        "    if input is greater or equal than 0 it will return input and if input is less than 0 it will return 0\n",
        "  '''\n",
        "  return (x>=0) * x"
      ],
      "execution_count": 0,
      "outputs": []
    },
    {
      "cell_type": "markdown",
      "metadata": {
        "id": "Gy7U_D2BFcGp",
        "colab_type": "text"
      },
      "source": [
        "# NN architecture"
      ]
    },
    {
      "cell_type": "code",
      "metadata": {
        "id": "Wbo6Y1_FFsVw",
        "colab_type": "code",
        "colab": {}
      },
      "source": [
        "learning_rate_alpha, iterations, hidden_layer_1, hidden_layer_2 = (2, 200, 350, 74)"
      ],
      "execution_count": 0,
      "outputs": []
    },
    {
      "cell_type": "code",
      "metadata": {
        "id": "y_O7HIb_F_wQ",
        "colab_type": "code",
        "colab": {}
      },
      "source": [
        "pixels, num_labels = (784,10)"
      ],
      "execution_count": 0,
      "outputs": []
    },
    {
      "cell_type": "code",
      "metadata": {
        "id": "y-oi3x9HGGiq",
        "colab_type": "code",
        "colab": {}
      },
      "source": [
        "batch_size = 100"
      ],
      "execution_count": 0,
      "outputs": []
    },
    {
      "cell_type": "markdown",
      "metadata": {
        "id": "hLpsC2HEHJ50",
        "colab_type": "text"
      },
      "source": [
        "**Ramdomize Weights**"
      ]
    },
    {
      "cell_type": "code",
      "metadata": {
        "id": "Ul7OXgCiGI5X",
        "colab_type": "code",
        "colab": {}
      },
      "source": [
        "weights_01 = 0.002*np.random.random((pixels,hidden_layer_1))-0.001\n",
        "weights_12 = 0.02*np.random.random((hidden_layer_1,hidden_layer_2))-0.01\n",
        "weights_23 = 0.2*np.random.random((hidden_layer_2,num_labels))-0.1"
      ],
      "execution_count": 0,
      "outputs": []
    },
    {
      "cell_type": "code",
      "metadata": {
        "id": "G6PrONaWHGPk",
        "colab_type": "code",
        "colab": {
          "base_uri": "https://localhost:8080/",
          "height": 283
        },
        "outputId": "761fd3f4-c153-4d43-e0ac-2fad0c89c027"
      },
      "source": [
        "for j in tqdm(range(iterations)):\n",
        "  correct_cnt = 0\n",
        "  for i in range(int(len(images)/batch_size)):\n",
        "    batch_start, batch_end = ((i*batch_size),(i+1*batch_size))\n",
        "    layer_0 = images[batch_start:batch_end]\n",
        "    layer_1 = tanh(np.dot(layer_0,weights_01))\n",
        "    layer_2 = tanh(np.dot(layer_1,weights_12))\n",
        "    layer_3 = softmax(np.dot(layer_2,weights_23))\n",
        "    #print(layer_3)\n",
        "    #print(labels)\n",
        "    for k in range(batch_size):\n",
        "      try:\n",
        "        correct_cnt += int(np.argmax(layer_3[k:k+1])==np.argmax(labels[batch_start+k:batch_start+k+1]))\n",
        "      except:\n",
        "        break\n",
        "    layer3del = (labels[batch_start:batch_end]-layer_3)/(batch_size*layer_3.shape[0])\n",
        "    layer2del = layer3del.dot(weights_23.T)*tanhderiv(layer_2)\n",
        "    layer1del = layer2del.dot(weights_12.T)*tanhderiv(layer_1)\n",
        "    weights_23 += learning_rate_alpha * layer_2.T.dot(layer3del)\n",
        "    weights_12 += learning_rate_alpha * layer_1.T.dot(layer2del)\n",
        "    weights_01 += learning_rate_alpha * layer_0.T.dot(layer1del)\n",
        "  test_correct_count = 0\n",
        "  for i in range(len(test_images)):\n",
        "    layer_0 = test_images[i:i+1]\n",
        "    layer_1 = tanh(np.dot(layer_0,weights_01))\n",
        "    layer_2 = tanh(np.dot(layer_1,weights_12))\n",
        "    layer_3 = np.dot(layer_2,weights_23)\n",
        "    test_correct_count += int(np.argmax(layer_3)==np.argmax(test_labels[i:i+1]))"
      ],
      "execution_count": 57,
      "outputs": [
        {
          "output_type": "stream",
          "text": [
            "  5%|▌         | 10/200 [00:14<04:44,  1.50s/it]"
          ],
          "name": "stderr"
        },
        {
          "output_type": "error",
          "ename": "KeyboardInterrupt",
          "evalue": "ignored",
          "traceback": [
            "\u001b[0;31m---------------------------------------------------------------------------\u001b[0m",
            "\u001b[0;31mKeyboardInterrupt\u001b[0m                         Traceback (most recent call last)",
            "\u001b[0;32m<ipython-input-57-10e3263bac4c>\u001b[0m in \u001b[0;36m<module>\u001b[0;34m()\u001b[0m\n\u001b[1;32m     24\u001b[0m     \u001b[0mlayer_0\u001b[0m \u001b[0;34m=\u001b[0m \u001b[0mtest_images\u001b[0m\u001b[0;34m[\u001b[0m\u001b[0mi\u001b[0m\u001b[0;34m:\u001b[0m\u001b[0mi\u001b[0m\u001b[0;34m+\u001b[0m\u001b[0;36m1\u001b[0m\u001b[0;34m]\u001b[0m\u001b[0;34m\u001b[0m\u001b[0;34m\u001b[0m\u001b[0m\n\u001b[1;32m     25\u001b[0m     \u001b[0mlayer_1\u001b[0m \u001b[0;34m=\u001b[0m \u001b[0mtanh\u001b[0m\u001b[0;34m(\u001b[0m\u001b[0mnp\u001b[0m\u001b[0;34m.\u001b[0m\u001b[0mdot\u001b[0m\u001b[0;34m(\u001b[0m\u001b[0mlayer_0\u001b[0m\u001b[0;34m,\u001b[0m\u001b[0mweights_01\u001b[0m\u001b[0;34m)\u001b[0m\u001b[0;34m)\u001b[0m\u001b[0;34m\u001b[0m\u001b[0;34m\u001b[0m\u001b[0m\n\u001b[0;32m---> 26\u001b[0;31m     \u001b[0mlayer_2\u001b[0m \u001b[0;34m=\u001b[0m \u001b[0mtanh\u001b[0m\u001b[0;34m(\u001b[0m\u001b[0mnp\u001b[0m\u001b[0;34m.\u001b[0m\u001b[0mdot\u001b[0m\u001b[0;34m(\u001b[0m\u001b[0mlayer_1\u001b[0m\u001b[0;34m,\u001b[0m\u001b[0mweights_12\u001b[0m\u001b[0;34m)\u001b[0m\u001b[0;34m)\u001b[0m\u001b[0;34m\u001b[0m\u001b[0;34m\u001b[0m\u001b[0m\n\u001b[0m\u001b[1;32m     27\u001b[0m     \u001b[0mlayer_3\u001b[0m \u001b[0;34m=\u001b[0m \u001b[0mnp\u001b[0m\u001b[0;34m.\u001b[0m\u001b[0mdot\u001b[0m\u001b[0;34m(\u001b[0m\u001b[0mlayer_2\u001b[0m\u001b[0;34m,\u001b[0m\u001b[0mweights_23\u001b[0m\u001b[0;34m)\u001b[0m\u001b[0;34m\u001b[0m\u001b[0;34m\u001b[0m\u001b[0m\n\u001b[1;32m     28\u001b[0m     \u001b[0mtest_correct_count\u001b[0m \u001b[0;34m+=\u001b[0m \u001b[0mint\u001b[0m\u001b[0;34m(\u001b[0m\u001b[0mnp\u001b[0m\u001b[0;34m.\u001b[0m\u001b[0margmax\u001b[0m\u001b[0;34m(\u001b[0m\u001b[0mlayer_3\u001b[0m\u001b[0;34m)\u001b[0m\u001b[0;34m==\u001b[0m\u001b[0mnp\u001b[0m\u001b[0;34m.\u001b[0m\u001b[0margmax\u001b[0m\u001b[0;34m(\u001b[0m\u001b[0mtest_labels\u001b[0m\u001b[0;34m[\u001b[0m\u001b[0mi\u001b[0m\u001b[0;34m:\u001b[0m\u001b[0mi\u001b[0m\u001b[0;34m+\u001b[0m\u001b[0;36m1\u001b[0m\u001b[0;34m]\u001b[0m\u001b[0;34m)\u001b[0m\u001b[0;34m)\u001b[0m\u001b[0;34m\u001b[0m\u001b[0;34m\u001b[0m\u001b[0m\n",
            "\u001b[0;32m<__array_function__ internals>\u001b[0m in \u001b[0;36mdot\u001b[0;34m(*args, **kwargs)\u001b[0m\n",
            "\u001b[0;31mKeyboardInterrupt\u001b[0m: "
          ]
        }
      ]
    },
    {
      "cell_type": "code",
      "metadata": {
        "id": "sAW_89rFHHOK",
        "colab_type": "code",
        "colab": {}
      },
      "source": [
        ""
      ],
      "execution_count": 0,
      "outputs": []
    }
  ]
}