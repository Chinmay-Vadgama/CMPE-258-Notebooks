{
  "nbformat": 4,
  "nbformat_minor": 0,
  "metadata": {
    "colab": {
      "name": "MNIST with numpy NN.ipynb",
      "provenance": []
    },
    "kernelspec": {
      "name": "python3",
      "display_name": "Python 3"
    },
    "accelerator": "GPU"
  },
  "cells": [
    {
      "cell_type": "markdown",
      "metadata": {
        "id": "J5DSOhYBbjx6",
        "colab_type": "text"
      },
      "source": [
        "# Neural Network Implementation for Hand Written Digit classification\n",
        "\n",
        "**Author - Chinmay Vadgama; ID : 014551407**\n",
        "\n",
        "Instructions :\n",
        "```\n",
        "1. Implement Mini-Batch Gradient Descent\n",
        "2. Implement drop-out regularization for all/some of the layers to see the impact of drop out technique\n",
        "3. Initialize Random Weights \n",
        "4. Use Image Augmentation to achieve robustness and avoid overfitting\n",
        "5. Try using multiple layers(more than 2) and experiment with number of layers and neurons\n",
        "6. Use appropriate activation function such as RelU and Softmax\n",
        "7. Scale/Normalize the input\n",
        "8. Use different Learning rates/adaptive learning rate\n",
        "9. The code should provide appropriate metrics, visualization,  testing and training accuracy etc.,. and plot the results and confusion matrix  (this is important)\n",
        "10. Display top common errors in NN learning\n",
        "```\n",
        "\n",
        "\n",
        "\n",
        "\n",
        "\n"
      ]
    },
    {
      "cell_type": "code",
      "metadata": {
        "id": "r2czuOowJG-t",
        "colab_type": "code",
        "colab": {}
      },
      "source": [
        "# Load Important Libraries\n",
        "import numpy as np\n",
        "from __future__ import division\n",
        "import matplotlib.pyplot as plt\n",
        "from scipy.special import expit as activation_function  # 1/(1+exp(-x)), sigmoid\n",
        "from scipy.stats import truncnorm\n",
        "from tqdm import tqdm"
      ],
      "execution_count": 0,
      "outputs": []
    },
    {
      "cell_type": "code",
      "metadata": {
        "id": "uAM-fveiJOm8",
        "colab_type": "code",
        "colab": {}
      },
      "source": [
        "np.random.seed(10)"
      ],
      "execution_count": 0,
      "outputs": []
    },
    {
      "cell_type": "code",
      "metadata": {
        "id": "N4tATWNYJTNr",
        "colab_type": "code",
        "colab": {}
      },
      "source": [
        "# Activation Function\n",
        "def relu(x):\n",
        "  '''\n",
        "    if input is greater or equal than 0 it will return input and if input is less than 0 it will return 0\n",
        "  '''\n",
        "  return (x>=0) * x"
      ],
      "execution_count": 0,
      "outputs": []
    },
    {
      "cell_type": "code",
      "metadata": {
        "id": "nbKih8ImJ5Aq",
        "colab_type": "code",
        "outputId": "f183699d-0c3a-46ea-d5fc-b1d665ed2a40",
        "colab": {
          "base_uri": "https://localhost:8080/",
          "height": 34
        }
      },
      "source": [
        "relu(4)"
      ],
      "execution_count": 0,
      "outputs": [
        {
          "output_type": "execute_result",
          "data": {
            "text/plain": [
              "4"
            ]
          },
          "metadata": {
            "tags": []
          },
          "execution_count": 4
        }
      ]
    },
    {
      "cell_type": "code",
      "metadata": {
        "id": "1lTTVRLjJ6lJ",
        "colab_type": "code",
        "outputId": "46232a79-8091-4d13-b456-ae0c7df94e4e",
        "colab": {
          "base_uri": "https://localhost:8080/",
          "height": 34
        }
      },
      "source": [
        "relu(-4)"
      ],
      "execution_count": 0,
      "outputs": [
        {
          "output_type": "execute_result",
          "data": {
            "text/plain": [
              "0"
            ]
          },
          "metadata": {
            "tags": []
          },
          "execution_count": 5
        }
      ]
    },
    {
      "cell_type": "code",
      "metadata": {
        "id": "x1EIdctdJ7yZ",
        "colab_type": "code",
        "colab": {}
      },
      "source": [
        ""
      ],
      "execution_count": 0,
      "outputs": []
    },
    {
      "cell_type": "markdown",
      "metadata": {
        "id": "XZdtEp7hKL68",
        "colab_type": "text"
      },
      "source": [
        "# Load MNIST Data"
      ]
    },
    {
      "cell_type": "markdown",
      "metadata": {
        "id": "-wUunsIZjoUF",
        "colab_type": "text"
      },
      "source": [
        "from keras.datasets import mnist\n",
        "import matplotlib.pyplot as plt\n",
        "(X_train, y_train), (X_test, y_test) = mnist.load_data()\n",
        "plt.subplot(221)\n",
        "plt.imshow(X_train[0], cmap=plt.get_cmap('gray'))\n",
        "plt.subplot(222)\n",
        "plt.imshow(X_train[1], cmap=plt.get_cmap('gray'))\n",
        "plt.subplot(223)\n",
        "plt.imshow(X_train[2], cmap=plt.get_cmap('gray'))\n",
        "plt.subplot(224)\n",
        "plt.imshow(X_train[3], cmap=plt.get_cmap('gray'))\n",
        "# show the plot\n",
        "plt.show()\n",
        "print(X_train[0].shape)\n",
        "batch_size = 100\n",
        "alpha, iterations = (0.001, 300)\n",
        "\n",
        "pixels_per_image, num_labels, hidden_size = (784, 10, 100)\n",
        "\n"
      ]
    },
    {
      "cell_type": "code",
      "metadata": {
        "id": "JBOI5zULom6z",
        "colab_type": "code",
        "outputId": "f9a3901e-2f7b-4be9-ea64-344bc9f3caf3",
        "colab": {
          "base_uri": "https://localhost:8080/",
          "height": 382
        }
      },
      "source": [
        "from keras.datasets import mnist\n",
        "import matplotlib.pyplot as plt\n",
        "(X_train, y_train), (X_test, y_test) = mnist.load_data()\n",
        "plt.subplot(221)\n",
        "plt.imshow(X_train[0], cmap=plt.get_cmap('gray'))\n",
        "plt.subplot(222)\n",
        "plt.imshow(X_train[1], cmap=plt.get_cmap('gray'))\n",
        "plt.subplot(223)\n",
        "plt.imshow(X_train[2], cmap=plt.get_cmap('gray'))\n",
        "plt.subplot(224)\n",
        "plt.imshow(X_train[3], cmap=plt.get_cmap('gray'))\n",
        "# show the plot\n",
        "plt.show()\n",
        "print(X_train[0].shape)"
      ],
      "execution_count": 0,
      "outputs": [
        {
          "output_type": "stream",
          "text": [
            "Using TensorFlow backend.\n"
          ],
          "name": "stderr"
        },
        {
          "output_type": "display_data",
          "data": {
            "text/html": [
              "<p style=\"color: red;\">\n",
              "The default version of TensorFlow in Colab will soon switch to TensorFlow 2.x.<br>\n",
              "We recommend you <a href=\"https://www.tensorflow.org/guide/migrate\" target=\"_blank\">upgrade</a> now \n",
              "or ensure your notebook will continue to use TensorFlow 1.x via the <code>%tensorflow_version 1.x</code> magic:\n",
              "<a href=\"https://colab.research.google.com/notebooks/tensorflow_version.ipynb\" target=\"_blank\">more info</a>.</p>\n"
            ],
            "text/plain": [
              "<IPython.core.display.HTML object>"
            ]
          },
          "metadata": {
            "tags": []
          }
        },
        {
          "output_type": "stream",
          "text": [
            "Downloading data from https://s3.amazonaws.com/img-datasets/mnist.npz\n",
            "11493376/11490434 [==============================] - 1s 0us/step\n"
          ],
          "name": "stdout"
        },
        {
          "output_type": "display_data",
          "data": {
            "image/png": "[encoded data removed]",
            "text/plain": [
              "<Figure size 432x288 with 4 Axes>"
            ]
          },
          "metadata": {
            "tags": []
          }
        },
        {
          "output_type": "stream",
          "text": [
            "(28, 28)\n"
          ],
          "name": "stdout"
        }
      ]
    },
    {
      "cell_type": "markdown",
      "metadata": {
        "id": "j6JJCpxwkgWg",
        "colab_type": "text"
      },
      "source": [
        "**Download train and test csv files**"
      ]
    },
    {
      "cell_type": "code",
      "metadata": {
        "id": "Kc8E60uvkXQv",
        "colab_type": "code",
        "outputId": "008ebb01-8129-41eb-9fdd-9094822fcae5",
        "colab": {
          "base_uri": "https://localhost:8080/",
          "height": 204
        }
      },
      "source": [
        "!wget https://www.python-course.eu/data/mnist/mnist_train.csv"
      ],
      "execution_count": 0,
      "outputs": [
        {
          "output_type": "stream",
          "text": [
            "--2020-03-17 04:51:16--  https://www.python-course.eu/data/mnist/mnist_train.csv\n",
            "Resolving www.python-course.eu (www.python-course.eu)... 138.201.17.115, 2a01:4f8:171:286f::4\n",
            "Connecting to www.python-course.eu (www.python-course.eu)|138.201.17.115|:443... connected.\n",
            "HTTP request sent, awaiting response... 200 OK\n",
            "Length: 109575994 (104M) [text/csv]\n",
            "Saving to: ‘mnist_train.csv’\n",
            "\n",
            "mnist_train.csv     100%[===================>] 104.50M  18.8MB/s    in 6.7s    \n",
            "\n",
            "2020-03-17 04:51:24 (15.7 MB/s) - ‘mnist_train.csv’ saved [109575994/109575994]\n",
            "\n"
          ],
          "name": "stdout"
        }
      ]
    },
    {
      "cell_type": "code",
      "metadata": {
        "id": "n1qlmyODkXUT",
        "colab_type": "code",
        "outputId": "aef4eebf-f052-4764-8330-b2458dda5f70",
        "colab": {
          "base_uri": "https://localhost:8080/",
          "height": 204
        }
      },
      "source": [
        "!wget https://www.python-course.eu/data/mnist/mnist_test.csv"
      ],
      "execution_count": 0,
      "outputs": [
        {
          "output_type": "stream",
          "text": [
            "--2020-03-17 04:51:25--  https://www.python-course.eu/data/mnist/mnist_test.csv\n",
            "Resolving www.python-course.eu (www.python-course.eu)... 138.201.17.115, 2a01:4f8:171:286f::4\n",
            "Connecting to www.python-course.eu (www.python-course.eu)|138.201.17.115|:443... connected.\n",
            "HTTP request sent, awaiting response... 200 OK\n",
            "Length: 18289443 (17M) [text/csv]\n",
            "Saving to: ‘mnist_test.csv’\n",
            "\n",
            "mnist_test.csv      100%[===================>]  17.44M  9.32MB/s    in 1.9s    \n",
            "\n",
            "2020-03-17 04:51:28 (9.32 MB/s) - ‘mnist_test.csv’ saved [18289443/18289443]\n",
            "\n"
          ],
          "name": "stdout"
        }
      ]
    },
    {
      "cell_type": "code",
      "metadata": {
        "id": "zLirGyREg9Px",
        "colab_type": "code",
        "outputId": "4bc1892c-8f34-43ac-c1d7-f1bbc542b167",
        "colab": {
          "base_uri": "https://localhost:8080/",
          "height": 34
        }
      },
      "source": [
        "\n",
        "if True:  # recreate MNIST arrays. Do it only once, after that modify to False\n",
        "    train_data = np.loadtxt(\"mnist_train.csv\", delimiter=\",\")\n",
        "    test_data = np.loadtxt(\"mnist_test.csv\", delimiter=\",\")\n",
        "    train_imgs = np.asfarray(train_data[:, 1:]) / 255.0\n",
        "    test_imgs = np.asfarray(test_data[:, 1:]) / 255.0\n",
        "    train_labels = np.asfarray(train_data[:, :1])\n",
        "    test_labels = np.asfarray(test_data[:, :1])\n",
        "    lr = np.arange(10)\n",
        "    train_labels_one_hot = (lr==train_labels).astype(np.float)\n",
        "    test_labels_one_hot = (lr==test_labels).astype(np.float)\n",
        "    for i, d in enumerate([train_imgs, test_imgs, train_labels, test_labels, train_labels_one_hot, test_labels_one_hot]):\n",
        "        np.save('%i.array' % i, d)\n",
        "\n",
        "(train_imgs, test_imgs, train_labels, test_labels, train_labels_one_hot, test_labels_one_hot) = [np.load('%i.array.npy' % i) for i in range(6)]\n",
        "\n",
        "print('Data loaded.')\n",
        "\n",
        "if False:  # show images\n",
        "    for i in range(10):\n",
        "        img = train_imgs[i].reshape((28,28))\n",
        "        plt.imshow(img, cmap=\"Greys\")\n",
        "        plt.show()"
      ],
      "execution_count": 0,
      "outputs": [
        {
          "output_type": "stream",
          "text": [
            "Data loaded.\n"
          ],
          "name": "stdout"
        }
      ]
    },
    {
      "cell_type": "code",
      "metadata": {
        "id": "FS91Tc7pkBkD",
        "colab_type": "code",
        "colab": {}
      },
      "source": [
        "class NeuralNetwork:\n",
        "    def __init__(self, network_structure, learning_rate, bias=None):  \n",
        "        self.structure = network_structure\n",
        "        self.no_of_layers = len(self.structure)\n",
        "        self.learning_rate = learning_rate \n",
        "        self.bias = bias\n",
        "        self.create_weight_matrices()\n",
        "\n",
        "    def create_weight_matrices(self):\n",
        "        bias_node = 1 if self.bias else 0\n",
        "        self.weights_matrices = []\n",
        "        for k in range(self.no_of_layers-1):\n",
        "            nodes_in = self.structure[k]\n",
        "            nodes_out = self.structure[k+1]\n",
        "            n = (nodes_in + bias_node) * nodes_out\n",
        "            X = truncnorm(-1, 1,  loc=0, scale=1)\n",
        "            #X = truncnorm(-1 / np.sqrt(nodes_in), 1 / np.sqrt(nodes_in),  loc=0, scale=1)  # accuracy is worse\n",
        "            wm = X.rvs(n).reshape((nodes_out, nodes_in + bias_node))\n",
        "            self.weights_matrices.append(wm)\n",
        "\n",
        "    def train(self, input_vector, target_vector): \n",
        "        input_vector = np.array(input_vector, ndmin=2).T\n",
        "        res_vectors = [input_vector]\n",
        "        for k in range(self.no_of_layers-1):\n",
        "            in_vector = res_vectors[-1]\n",
        "            if self.bias:\n",
        "                in_vector = np.concatenate((in_vector, [[self.bias]]))\n",
        "                res_vectors[-1] = in_vector\n",
        "            x = np.dot(self.weights_matrices[k], in_vector)\n",
        "            out_vector = activation_function(x)\n",
        "            res_vectors.append(out_vector)    \n",
        "\n",
        "        target_vector = np.array(target_vector, ndmin=2).T\n",
        "        output_errors = target_vector - out_vector  \n",
        "        for k in range(self.no_of_layers-1, 0, -1):\n",
        "            out_vector = res_vectors[k]\n",
        "            in_vector = res_vectors[k-1]\n",
        "            if self.bias and not k==(self.no_of_layers-1):\n",
        "                out_vector = out_vector[:-1,:].copy()\n",
        "            tmp = output_errors * out_vector * (1.0 - out_vector)  # sigma'(x) = sigma(x) (1 - sigma(x))\n",
        "            tmp = np.dot(tmp, in_vector.T)\n",
        "            self.weights_matrices[k-1] += self.learning_rate * tmp\n",
        "            output_errors = np.dot(self.weights_matrices[k-1].T, output_errors)\n",
        "            if self.bias:\n",
        "                output_errors = output_errors[:-1,:]\n",
        "\n",
        "    def run(self, input_vector):\n",
        "        if self.bias:\n",
        "            input_vector = np.concatenate((input_vector, [self.bias]))\n",
        "        in_vector = np.array(input_vector, ndmin=2).T\n",
        "        for k in range(self.no_of_layers-1):\n",
        "            x = np.dot(self.weights_matrices[k], in_vector)\n",
        "            out_vector = activation_function(x)\n",
        "            in_vector = out_vector\n",
        "            if self.bias:\n",
        "                in_vector = np.concatenate((in_vector, [[self.bias]]))\n",
        "        return out_vector\n",
        "\n",
        "    def evaluate(self, data, labels):\n",
        "        corrects, wrongs = 0, 0\n",
        "        for i in range(len(data)):\n",
        "            res = self.run(data[i])\n",
        "            res_max = res.argmax()\n",
        "            if res_max == labels[i]:\n",
        "                corrects += 1\n",
        "            else:\n",
        "                wrongs += 1\n",
        "        return corrects, wrongs"
      ],
      "execution_count": 0,
      "outputs": []
    },
    {
      "cell_type": "code",
      "metadata": {
        "id": "AS-Kui9OlpS5",
        "colab_type": "code",
        "outputId": "5f77a848-5c1e-4510-d6a6-f72b4a799972",
        "colab": {
          "base_uri": "https://localhost:8080/",
          "height": 282
        }
      },
      "source": [
        "X_train_plot_0 = train_imgs[0].reshape(-1,28,28,1)\n",
        "plt.imshow(X_train_plot_0[0][:,:,0])"
      ],
      "execution_count": 0,
      "outputs": [
        {
          "output_type": "execute_result",
          "data": {
            "text/plain": [
              "<matplotlib.image.AxesImage at 0x7f6812566ba8>"
            ]
          },
          "metadata": {
            "tags": []
          },
          "execution_count": 11
        },
        {
          "output_type": "display_data",
          "data": {
            "image/png": "[encoded data removed]",
            "text/plain": [
              "<Figure size 432x288 with 1 Axes>"
            ]
          },
          "metadata": {
            "tags": []
          }
        }
      ]
    },
    {
      "cell_type": "code",
      "metadata": {
        "id": "NEtAho2OkHor",
        "colab_type": "code",
        "colab": {}
      },
      "source": [
        "# define the NeuralNetwork class object\n",
        "ANN = NeuralNetwork(network_structure=[784, 300, 74, 10], learning_rate=0.1, bias=None)"
      ],
      "execution_count": 0,
      "outputs": []
    },
    {
      "cell_type": "code",
      "metadata": {
        "id": "YKXSn4k7lOxS",
        "colab_type": "code",
        "outputId": "4cc78baa-bc62-4b18-d802-70cbcf0ba228",
        "colab": {
          "base_uri": "https://localhost:8080/",
          "height": 1000
        }
      },
      "source": [
        "# Train the ANN object for 3 epochs\n",
        "for epoch in tqdm(range(3)):\n",
        "    for i in range(len(train_imgs)):\n",
        "        if i % 1000 == 0:\n",
        "            print('epoch:', epoch, 'img number:', i, '/', len(train_imgs))\n",
        "        ANN.train(train_imgs[i], train_labels_one_hot[i])"
      ],
      "execution_count": 0,
      "outputs": [
        {
          "output_type": "stream",
          "text": [
            "\r  0%|          | 0/3 [00:00<?, ?it/s]"
          ],
          "name": "stderr"
        },
        {
          "output_type": "stream",
          "text": [
            "epoch: 0 img number: 0 / 60000\n",
            "epoch: 0 img number: 1000 / 60000\n",
            "epoch: 0 img number: 2000 / 60000\n",
            "epoch: 0 img number: 3000 / 60000\n",
            "epoch: 0 img number: 4000 / 60000\n",
            "epoch: 0 img number: 5000 / 60000\n",
            "epoch: 0 img number: 6000 / 60000\n",
            "epoch: 0 img number: 7000 / 60000\n",
            "epoch: 0 img number: 8000 / 60000\n",
            "epoch: 0 img number: 9000 / 60000\n",
            "epoch: 0 img number: 10000 / 60000\n",
            "epoch: 0 img number: 11000 / 60000\n",
            "epoch: 0 img number: 12000 / 60000\n",
            "epoch: 0 img number: 13000 / 60000\n",
            "epoch: 0 img number: 14000 / 60000\n",
            "epoch: 0 img number: 15000 / 60000\n",
            "epoch: 0 img number: 16000 / 60000\n",
            "epoch: 0 img number: 17000 / 60000\n",
            "epoch: 0 img number: 18000 / 60000\n",
            "epoch: 0 img number: 19000 / 60000\n",
            "epoch: 0 img number: 20000 / 60000\n",
            "epoch: 0 img number: 21000 / 60000\n",
            "epoch: 0 img number: 22000 / 60000\n",
            "epoch: 0 img number: 23000 / 60000\n",
            "epoch: 0 img number: 24000 / 60000\n",
            "epoch: 0 img number: 25000 / 60000\n",
            "epoch: 0 img number: 26000 / 60000\n",
            "epoch: 0 img number: 27000 / 60000\n",
            "epoch: 0 img number: 28000 / 60000\n",
            "epoch: 0 img number: 29000 / 60000\n",
            "epoch: 0 img number: 30000 / 60000\n",
            "epoch: 0 img number: 31000 / 60000\n",
            "epoch: 0 img number: 32000 / 60000\n",
            "epoch: 0 img number: 33000 / 60000\n",
            "epoch: 0 img number: 34000 / 60000\n",
            "epoch: 0 img number: 35000 / 60000\n",
            "epoch: 0 img number: 36000 / 60000\n",
            "epoch: 0 img number: 37000 / 60000\n",
            "epoch: 0 img number: 38000 / 60000\n",
            "epoch: 0 img number: 39000 / 60000\n",
            "epoch: 0 img number: 40000 / 60000\n",
            "epoch: 0 img number: 41000 / 60000\n",
            "epoch: 0 img number: 42000 / 60000\n",
            "epoch: 0 img number: 43000 / 60000\n",
            "epoch: 0 img number: 44000 / 60000\n",
            "epoch: 0 img number: 45000 / 60000\n",
            "epoch: 0 img number: 46000 / 60000\n",
            "epoch: 0 img number: 47000 / 60000\n",
            "epoch: 0 img number: 48000 / 60000\n",
            "epoch: 0 img number: 49000 / 60000\n",
            "epoch: 0 img number: 50000 / 60000\n",
            "epoch: 0 img number: 51000 / 60000\n",
            "epoch: 0 img number: 52000 / 60000\n",
            "epoch: 0 img number: 53000 / 60000\n",
            "epoch: 0 img number: 54000 / 60000\n",
            "epoch: 0 img number: 55000 / 60000\n",
            "epoch: 0 img number: 56000 / 60000\n",
            "epoch: 0 img number: 57000 / 60000\n",
            "epoch: 0 img number: 58000 / 60000\n",
            "epoch: 0 img number: 59000 / 60000\n"
          ],
          "name": "stdout"
        },
        {
          "output_type": "stream",
          "text": [
            "\r 33%|███▎      | 1/3 [01:25<02:50, 85.30s/it]"
          ],
          "name": "stderr"
        },
        {
          "output_type": "stream",
          "text": [
            "epoch: 1 img number: 0 / 60000\n",
            "epoch: 1 img number: 1000 / 60000\n",
            "epoch: 1 img number: 2000 / 60000\n",
            "epoch: 1 img number: 3000 / 60000\n",
            "epoch: 1 img number: 4000 / 60000\n",
            "epoch: 1 img number: 5000 / 60000\n",
            "epoch: 1 img number: 6000 / 60000\n",
            "epoch: 1 img number: 7000 / 60000\n",
            "epoch: 1 img number: 8000 / 60000\n",
            "epoch: 1 img number: 9000 / 60000\n",
            "epoch: 1 img number: 10000 / 60000\n",
            "epoch: 1 img number: 11000 / 60000\n",
            "epoch: 1 img number: 12000 / 60000\n",
            "epoch: 1 img number: 13000 / 60000\n",
            "epoch: 1 img number: 14000 / 60000\n",
            "epoch: 1 img number: 15000 / 60000\n",
            "epoch: 1 img number: 16000 / 60000\n",
            "epoch: 1 img number: 17000 / 60000\n",
            "epoch: 1 img number: 18000 / 60000\n",
            "epoch: 1 img number: 19000 / 60000\n",
            "epoch: 1 img number: 20000 / 60000\n",
            "epoch: 1 img number: 21000 / 60000\n",
            "epoch: 1 img number: 22000 / 60000\n",
            "epoch: 1 img number: 23000 / 60000\n",
            "epoch: 1 img number: 24000 / 60000\n",
            "epoch: 1 img number: 25000 / 60000\n",
            "epoch: 1 img number: 26000 / 60000\n",
            "epoch: 1 img number: 27000 / 60000\n",
            "epoch: 1 img number: 28000 / 60000\n",
            "epoch: 1 img number: 29000 / 60000\n",
            "epoch: 1 img number: 30000 / 60000\n",
            "epoch: 1 img number: 31000 / 60000\n",
            "epoch: 1 img number: 32000 / 60000\n",
            "epoch: 1 img number: 33000 / 60000\n",
            "epoch: 1 img number: 34000 / 60000\n",
            "epoch: 1 img number: 35000 / 60000\n",
            "epoch: 1 img number: 36000 / 60000\n",
            "epoch: 1 img number: 37000 / 60000\n",
            "epoch: 1 img number: 38000 / 60000\n",
            "epoch: 1 img number: 39000 / 60000\n",
            "epoch: 1 img number: 40000 / 60000\n",
            "epoch: 1 img number: 41000 / 60000\n",
            "epoch: 1 img number: 42000 / 60000\n",
            "epoch: 1 img number: 43000 / 60000\n",
            "epoch: 1 img number: 44000 / 60000\n",
            "epoch: 1 img number: 45000 / 60000\n",
            "epoch: 1 img number: 46000 / 60000\n",
            "epoch: 1 img number: 47000 / 60000\n",
            "epoch: 1 img number: 48000 / 60000\n",
            "epoch: 1 img number: 49000 / 60000\n",
            "epoch: 1 img number: 50000 / 60000\n",
            "epoch: 1 img number: 51000 / 60000\n",
            "epoch: 1 img number: 52000 / 60000\n",
            "epoch: 1 img number: 53000 / 60000\n",
            "epoch: 1 img number: 54000 / 60000\n",
            "epoch: 1 img number: 55000 / 60000\n",
            "epoch: 1 img number: 56000 / 60000\n",
            "epoch: 1 img number: 57000 / 60000\n",
            "epoch: 1 img number: 58000 / 60000\n",
            "epoch: 1 img number: 59000 / 60000\n"
          ],
          "name": "stdout"
        },
        {
          "output_type": "stream",
          "text": [
            "\r 67%|██████▋   | 2/3 [02:50<01:25, 85.31s/it]"
          ],
          "name": "stderr"
        },
        {
          "output_type": "stream",
          "text": [
            "epoch: 2 img number: 0 / 60000\n",
            "epoch: 2 img number: 1000 / 60000\n",
            "epoch: 2 img number: 2000 / 60000\n",
            "epoch: 2 img number: 3000 / 60000\n",
            "epoch: 2 img number: 4000 / 60000\n",
            "epoch: 2 img number: 5000 / 60000\n",
            "epoch: 2 img number: 6000 / 60000\n",
            "epoch: 2 img number: 7000 / 60000\n",
            "epoch: 2 img number: 8000 / 60000\n",
            "epoch: 2 img number: 9000 / 60000\n",
            "epoch: 2 img number: 10000 / 60000\n",
            "epoch: 2 img number: 11000 / 60000\n",
            "epoch: 2 img number: 12000 / 60000\n",
            "epoch: 2 img number: 13000 / 60000\n",
            "epoch: 2 img number: 14000 / 60000\n",
            "epoch: 2 img number: 15000 / 60000\n",
            "epoch: 2 img number: 16000 / 60000\n",
            "epoch: 2 img number: 17000 / 60000\n",
            "epoch: 2 img number: 18000 / 60000\n",
            "epoch: 2 img number: 19000 / 60000\n",
            "epoch: 2 img number: 20000 / 60000\n",
            "epoch: 2 img number: 21000 / 60000\n",
            "epoch: 2 img number: 22000 / 60000\n",
            "epoch: 2 img number: 23000 / 60000\n",
            "epoch: 2 img number: 24000 / 60000\n",
            "epoch: 2 img number: 25000 / 60000\n",
            "epoch: 2 img number: 26000 / 60000\n",
            "epoch: 2 img number: 27000 / 60000\n",
            "epoch: 2 img number: 28000 / 60000\n",
            "epoch: 2 img number: 29000 / 60000\n",
            "epoch: 2 img number: 30000 / 60000\n",
            "epoch: 2 img number: 31000 / 60000\n",
            "epoch: 2 img number: 32000 / 60000\n",
            "epoch: 2 img number: 33000 / 60000\n",
            "epoch: 2 img number: 34000 / 60000\n",
            "epoch: 2 img number: 35000 / 60000\n",
            "epoch: 2 img number: 36000 / 60000\n",
            "epoch: 2 img number: 37000 / 60000\n",
            "epoch: 2 img number: 38000 / 60000\n",
            "epoch: 2 img number: 39000 / 60000\n",
            "epoch: 2 img number: 40000 / 60000\n",
            "epoch: 2 img number: 41000 / 60000\n",
            "epoch: 2 img number: 42000 / 60000\n",
            "epoch: 2 img number: 43000 / 60000\n",
            "epoch: 2 img number: 44000 / 60000\n",
            "epoch: 2 img number: 45000 / 60000\n",
            "epoch: 2 img number: 46000 / 60000\n",
            "epoch: 2 img number: 47000 / 60000\n",
            "epoch: 2 img number: 48000 / 60000\n",
            "epoch: 2 img number: 49000 / 60000\n",
            "epoch: 2 img number: 50000 / 60000\n",
            "epoch: 2 img number: 51000 / 60000\n",
            "epoch: 2 img number: 52000 / 60000\n",
            "epoch: 2 img number: 53000 / 60000\n",
            "epoch: 2 img number: 54000 / 60000\n",
            "epoch: 2 img number: 55000 / 60000\n",
            "epoch: 2 img number: 56000 / 60000\n",
            "epoch: 2 img number: 57000 / 60000\n",
            "epoch: 2 img number: 58000 / 60000\n",
            "epoch: 2 img number: 59000 / 60000\n"
          ],
          "name": "stdout"
        },
        {
          "output_type": "stream",
          "text": [
            "\r100%|██████████| 3/3 [04:16<00:00, 85.38s/it]\n"
          ],
          "name": "stderr"
        }
      ]
    },
    {
      "cell_type": "code",
      "metadata": {
        "id": "zmXCu1w8lbgR",
        "colab_type": "code",
        "outputId": "57422014-654b-493e-de84-e692304f072f",
        "colab": {
          "base_uri": "https://localhost:8080/",
          "height": 34
        }
      },
      "source": [
        "corrects, wrongs = ANN.evaluate(test_imgs, test_labels)\n",
        "print(\"accruracy: test\", corrects / (corrects + wrongs))"
      ],
      "execution_count": 0,
      "outputs": [
        {
          "output_type": "stream",
          "text": [
            "accruracy: test 0.9171\n"
          ],
          "name": "stdout"
        }
      ]
    },
    {
      "cell_type": "code",
      "metadata": {
        "id": "mETINJf0ym7U",
        "colab_type": "code",
        "colab": {}
      },
      "source": [
        ""
      ],
      "execution_count": 0,
      "outputs": []
    }
  ]
}
